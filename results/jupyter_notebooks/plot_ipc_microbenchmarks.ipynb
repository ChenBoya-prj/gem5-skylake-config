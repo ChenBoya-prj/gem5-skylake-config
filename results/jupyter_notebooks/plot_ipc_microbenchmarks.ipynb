{
 "cells": [
  {
   "cell_type": "code",
   "execution_count": 1,
   "metadata": {},
   "outputs": [],
   "source": [
    "import numpy as np\n",
    "import pandas as pd\n",
    "import matplotlib\n",
    "from matplotlib import pyplot as plt\n",
    "import os"
   ]
  },
  {
   "cell_type": "code",
   "execution_count": 2,
   "metadata": {},
   "outputs": [
    {
     "name": "stdout",
     "output_type": "stream",
     "text": [
      "C:\\Users\\Trivikram\\Documents\\DArchR\\skylake\\images\\\n"
     ]
    }
   ],
   "source": [
    "datadir = os.getcwd()\n",
    "plot = datadir + \"\\\\images\\\\\"\n",
    "print(plot)"
   ]
  },
  {
   "cell_type": "code",
   "execution_count": 3,
   "metadata": {},
   "outputs": [],
   "source": [
    "gem5Configs = ['UnCalib','Calib','Max']\n",
    "hardware = ['hardware']\n",
    "benchmarks = ['CCa','CCe','CCm','CCh_st','CRm','CRf','CRd','CS1','CS3','EI','EF','ED1',\n",
    "              'EM1','EM5','MI','MC','MCS','MI','MD','MIM','MIM2']\n",
    "exe_benchmarks = ['ED1','EI','EF','EM1','EM5']"
   ]
  },
  {
   "cell_type": "code",
   "execution_count": 4,
   "metadata": {},
   "outputs": [],
   "source": [
    "# function to extract stats\n",
    "def gem5GetStat(filename, stat):\n",
    "    filename = os.path.join(datadir, '', filename, 'stats.txt').replace('\\\\','/')\n",
    "    with open(filename) as f:\n",
    "        r = f.read()\n",
    "        if len(r) < 10: return 0.0\n",
    "        start = r.find(stat) + len(stat) + 1\n",
    "        end = r.find('#', start)\n",
    "        return float(r[start:end])"
   ]
  },
  {
   "cell_type": "code",
   "execution_count": 5,
   "metadata": {},
   "outputs": [],
   "source": [
    "def pcmGetStat(filename, stat):\n",
    "    filename = os.path.join(datadir, '', filename, 'stats.txt').replace('\\\\','/')\n",
    "    with open(filename) as f:\n",
    "        r = f.read()\n",
    "        if len(r) < 10: return 0.0\n",
    "        start = r.find(stat) + len(stat) + 2\n",
    "        end = r.find('\\n', start)\n",
    "       # print(r[start:end])\n",
    "        return float(r[start:end])"
   ]
  },
  {
   "cell_type": "code",
   "execution_count": 6,
   "metadata": {},
   "outputs": [],
   "source": [
    "rows = []\n",
    "for config in gem5Configs:\n",
    "    cdir = datadir + '\\\\results\\\\' + config + '\\\\'\n",
    "    for bm in benchmarks:\n",
    "        rows.append([config, bm,\n",
    "                     gem5GetStat(cdir + bm, 'sim_ticks')/285.7, #3.5GHz\n",
    "                     gem5GetStat(cdir + bm, 'sim_insts'),\n",
    "                     gem5GetStat(cdir + bm, 'sim_ops'),\n",
    "                     gem5GetStat(cdir + bm, 'system.cpu.ipc')])\n",
    "\n",
    "gem5_df = pd.DataFrame(rows, columns=['config', 'benchmark', 'cycles', 'instructions', 'ops', 'ipc'])"
   ]
  },
  {
   "cell_type": "code",
   "execution_count": 7,
   "metadata": {},
   "outputs": [],
   "source": [
    "rows = []\n",
    "for config in hardware:\n",
    "    cdir = datadir + '\\\\results\\\\' + config + '\\\\'\n",
    "    for bm in benchmarks:\n",
    "        rows.append([config, bm, pcmGetStat(cdir + bm, 'IPC')])\n",
    "\n",
    "hardware_df = pd.DataFrame(rows, columns=['config','benchmark','ipc'])"
   ]
  },
  {
   "cell_type": "code",
   "execution_count": 8,
   "metadata": {},
   "outputs": [],
   "source": [
    "def plot_bar(data_size, benchmarks, stat, norm=True):\n",
    "    plt.figure()\n",
    "    i = 0\n",
    "    for size in sizes:\n",
    "        for bench in benchmarks:\n",
    "            if norm: \n",
    "                base = data_frame[(data_frame['data_size']==size)][stat].iloc[0]\n",
    "            else: base = 1\n",
    "            a = data_frame[(data_frame['benchmark']==bench) & (data_frame['data_size']==size)]\n",
    "            plt.bar(i, a[stat].iloc[0]/base, color='grey')\n",
    "            i += 1\n",
    "\n",
    "    plt.xticks(np.arange(len(benchmarks)+1), benchmarks, rotation=40, ha='right')"
   ]
  },
  {
   "cell_type": "code",
   "execution_count": 9,
   "metadata": {},
   "outputs": [],
   "source": [
    "def CreateArray(config,benchmarks,stat):\n",
    "    if (config == 'hardware'):\n",
    "        df = hardware_df\n",
    "    else: df = gem5_df\n",
    "    b = []\n",
    "    for bm in benchmarks:\n",
    "        a = df[(df['benchmark']==bm) & (df['config']==config)]\n",
    "        b.append(a[stat].iloc[0])\n",
    "    return b\n"
   ]
  },
  {
   "cell_type": "code",
   "execution_count": 10,
   "metadata": {},
   "outputs": [
    {
     "data": {
      "text/plain": [
       "<Figure size 432x288 with 0 Axes>"
      ]
     },
     "metadata": {},
     "output_type": "display_data"
    },
    {
     "data": {
      "image/png": "[encoded data removed]",
      "text/plain": [
       "<Figure size 864x432 with 1 Axes>"
      ]
     },
     "metadata": {
      "needs_background": "light"
     },
     "output_type": "display_data"
    }
   ],
   "source": [
    "plot_title = 'IPC'\n",
    "\n",
    "ylabel = 'ipc'\n",
    "plt.figure()\n",
    "plt.figure(figsize=(12,6))\n",
    "N = np.arange(len(benchmarks))\n",
    "barwidth = 0.2\n",
    "displacement1 = N + barwidth\n",
    "displacement2 = displacement1 + barwidth\n",
    "displacement3 = displacement2 + barwidth\n",
    "\n",
    "UnClaib_ipc = CreateArray('UnCalib',benchmarks,'ipc')\n",
    "# print(UnClaib_ipc)\n",
    "Calib_ipc = CreateArray('Calib',benchmarks,'ipc')\n",
    "Max_ipc = CreateArray('Max',benchmarks,'ipc')\n",
    "Hardware_ipc = CreateArray('hardware',benchmarks,'ipc')\n",
    "\n",
    "plt.bar(N, UnClaib_ipc, barwidth, label='UnCalibrated CPU', color='lightblue')\n",
    "plt.bar(displacement1, Calib_ipc, barwidth, label= 'Calibrated CPU', color='cornflowerblue')\n",
    "plt.bar(displacement2, Hardware_ipc, barwidth, label='Hardware', color='red')\n",
    "plt.bar(displacement3, Max_ipc, barwidth, label='Max CPU', color='royalblue')\n",
    "\n",
    "plt.title(plot_title)\n",
    "plt.legend(bbox_to_anchor=(0.25, 1))\n",
    "plt.xticks(N+0.3, benchmarks, rotation=40, ha='right')\n",
    "plt.ylabel(ylabel)\n",
    "plt.tight_layout()\n",
    "plt.savefig(plot + 'microbenchmark_IPC' + '.png', format='png', dpi=600)"
   ]
  },
  {
   "cell_type": "code",
   "execution_count": 12,
   "metadata": {},
   "outputs": [
    {
     "data": {
      "text/plain": [
       "<Figure size 432x288 with 0 Axes>"
      ]
     },
     "metadata": {},
     "output_type": "display_data"
    },
    {
     "data": {
      "image/png": "[encoded data removed]",
      "text/plain": [
       "<Figure size 576x432 with 1 Axes>"
      ]
     },
     "metadata": {
      "needs_background": "light"
     },
     "output_type": "display_data"
    }
   ],
   "source": [
    "plot_title = 'IPC'\n",
    "\n",
    "benchmarks = exe_benchmarks\n",
    "ylabel = 'ipc'\n",
    "plt.figure()\n",
    "plt.figure(figsize=(8,6))\n",
    "N = np.arange(len(benchmarks))\n",
    "barwidth = 0.2\n",
    "displacement1 = N + barwidth\n",
    "displacement2 = displacement1 + barwidth\n",
    "displacement3 = displacement2 + barwidth\n",
    "\n",
    "UnClaib_ipc = CreateArray('UnCalib',benchmarks,'ipc')\n",
    "# print(UnClaib_ipc)\n",
    "Calib_ipc = CreateArray('Calib',benchmarks,'ipc')\n",
    "Max_ipc = CreateArray('Max',benchmarks,'ipc')\n",
    "Hardware_ipc = CreateArray('hardware',benchmarks,'ipc')\n",
    "\n",
    "plt.bar(N, UnClaib_ipc, barwidth, label='UnCalibrated CPU', color='lightblue')\n",
    "plt.bar(displacement1, Calib_ipc, barwidth, label= 'Calibrated CPU', color='cornflowerblue')\n",
    "plt.bar(displacement2, Hardware_ipc, barwidth, label='Hardware', color='red')\n",
    "plt.bar(displacement3, Max_ipc, barwidth, label='Max CPU', color='royalblue')\n",
    "\n",
    "plt.title(plot_title)\n",
    "plt.legend(bbox_to_anchor=(0.25, 1))\n",
    "plt.xticks(N+0.3, benchmarks, rotation=40, ha='right')\n",
    "plt.ylabel(ylabel)\n",
    "plt.tight_layout()\n",
    "plt.savefig(plot + 'exe_IPC' + '.png', format='png', dpi=600)"
   ]
  },
  {
   "cell_type": "code",
   "execution_count": null,
   "metadata": {},
   "outputs": [],
   "source": []
  }
 ],
 "metadata": {
  "kernelspec": {
   "display_name": "Python 3",
   "language": "python",
   "name": "python3"
  },
  "language_info": {
   "codemirror_mode": {
    "name": "ipython",
    "version": 3
   },
   "file_extension": ".py",
   "mimetype": "text/x-python",
   "name": "python",
   "nbconvert_exporter": "python",
   "pygments_lexer": "ipython3",
   "version": "3.7.3"
  }
 },
 "nbformat": 4,
 "nbformat_minor": 2
}
